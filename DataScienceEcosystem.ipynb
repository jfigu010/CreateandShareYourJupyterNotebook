{
  "metadata": {
    "language_info": {
      "codemirror_mode": {
        "name": "python",
        "version": 3
      },
      "file_extension": ".py",
      "mimetype": "text/x-python",
      "name": "python",
      "nbconvert_exporter": "python",
      "pygments_lexer": "ipython3",
      "version": "3.8"
    },
    "kernelspec": {
      "name": "python",
      "display_name": "Python (Pyodide)",
      "language": "python"
    }
  },
  "nbformat_minor": 4,
  "nbformat": 4,
  "cells": [
    {
      "cell_type": "markdown",
      "source": "<!-- \"Exercise 2: Create markdown cell with title of the notebook\" -->\n# Data Science Tools and Ecosystem",
      "metadata": {}
    },
    {
      "cell_type": "markdown",
      "source": "<!-- Exercise 3 - Create a markdown cell for an introduction -->\nIn this notebook, Data Science Tools and Ecosystem are summarized.",
      "metadata": {}
    },
    {
      "cell_type": "markdown",
      "source": "<!-- Exercise 4 - Create a markdown cell to list data science languages -->\nSome of the popular languages that Data Scientists use are:\n1. Python\n2. R\n3. SQL\n4. Julia\n5. SQL",
      "metadata": {}
    },
    {
      "cell_type": "markdown",
      "source": "<!-- Exercise 5 - Create a markdown cell to list data science libraries -->\nSome of the commonly used libraries used by Data Scientists include:\n    \n1. Pandas\n2. NumPy\n3. Matplotlib\n4. Seaborn\n5. Scikit\n6. Tensorflow\n7. PyTorch",
      "metadata": {}
    },
    {
      "cell_type": "markdown",
      "source": "<!-- Exercise 6 - Create a markdown cell with a table of Data Science tools -->\n\n| Data Science Tools |\n| -------------|\n| JupyterLabs |\n| Anaconda |\n| VisualStudio Code |",
      "metadata": {}
    },
    {
      "cell_type": "markdown",
      "source": "<!-- Exercise 7 - Create a markdown cell introducing arithmetic expression examples -->\n### Below are a few examples of evaluating arithmetic expressions in Python",
      "metadata": {}
    },
    {
      "cell_type": "code",
      "source": "# Exercise 8 - Create a code cell to multiply and add numbers\n# This a simple arithmetic expression to mutiply then add integers\n(3*4)+5",
      "metadata": {
        "trusted": true
      },
      "execution_count": 9,
      "outputs": [
        {
          "execution_count": 9,
          "output_type": "execute_result",
          "data": {
            "text/plain": "17"
          },
          "metadata": {}
        }
      ]
    },
    {
      "cell_type": "code",
      "source": "# Exercise 9 - Create a code cell to convert minutes to hours\n# This will convert 200 minutes to hours by diving by 60\n200/60",
      "metadata": {
        "trusted": true
      },
      "execution_count": 10,
      "outputs": [
        {
          "execution_count": 10,
          "output_type": "execute_result",
          "data": {
            "text/plain": "3.3333333333333335"
          },
          "metadata": {}
        }
      ]
    },
    {
      "cell_type": "markdown",
      "source": "<!-- Exercise 10 - Insert a markdown cell to list Objectives -->\n**Objectives:**\n* List popular languages for Data Science\n* List popular libraries used in Data Science\n* List popular tools used in Data Science\n* Perform arithmetic expressions like multiplication and addition\n* Formatting text in a Markdown cells applying several formatting options with the Markdown language, such as: Headings, tables, paragraphs, bold text, and lists",
      "metadata": {}
    },
    {
      "cell_type": "markdown",
      "source": "<!-- Exercise 11 - Create a markdown cell to indicate the Author's name -->\n## Author\nJose C. Figueroa",
      "metadata": {}
    },
    {
      "cell_type": "code",
      "source": "",
      "metadata": {},
      "execution_count": null,
      "outputs": []
    }
  ]
}